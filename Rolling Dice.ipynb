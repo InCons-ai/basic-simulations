{
  "nbformat": 4,
  "nbformat_minor": 0,
  "metadata": {
    "colab": {
      "name": "Basics.ipynb",
      "provenance": [],
      "collapsed_sections": [],
      "authorship_tag": "ABX9TyPoYXb28/2HdeQNImQqb0J6",
      "include_colab_link": true
    },
    "kernelspec": {
      "name": "python3",
      "display_name": "Python 3"
    },
    "language_info": {
      "name": "python"
    }
  },
  "cells": [
    {
      "cell_type": "markdown",
      "metadata": {
        "id": "view-in-github",
        "colab_type": "text"
      },
      "source": [
        "<a href=\"https://colab.research.google.com/github/InCons-ai/basic-simulations/blob/main/Rolling%20Dice.ipynb\" target=\"_parent\"><img src=\"https://colab.research.google.com/assets/colab-badge.svg\" alt=\"Open In Colab\"/></a>"
      ]
    },
    {
      "cell_type": "markdown",
      "source": [
        "## **Here are some simple simulations to run:**\n",
        "\n",
        "1. Generate random numbers\n",
        "  * Generate a set of N random numbers with a fixed seed\n",
        "  * Use a randomly generated seed to print list of N random numbers\n",
        "\n",
        "2. Monte Carlo simulations\n",
        "  * Create a 6-sided die, and roll the dice N times\n",
        "  * Create a 100-sided die, and roll the die N times\n",
        "  * Use 6-sided die, and roll 2 such die N times\n",
        "  * Use 6-sided die, and roll 3 such die N times\n",
        "  * Plot results for these simulations\n",
        "  * Use 6-sided die, and roll M such die N times\n",
        "\n",
        "\n",
        "3. Try and run the Julia set given input\n",
        "\n"
      ],
      "metadata": {
        "id": "GonVfwqe4UC6"
      }
    },
    {
      "cell_type": "code",
      "source": [
        "import random\n",
        "import collections\n",
        "import numpy as np\n",
        "import pandas as pd\n",
        "from matplotlib import pyplot as plt\n"
      ],
      "metadata": {
        "id": "ku8pUrRn5P5a"
      },
      "execution_count": null,
      "outputs": []
    },
    {
      "cell_type": "markdown",
      "source": [
        "## : Generate Random Numbers"
      ],
      "metadata": {
        "id": "reeRUalr5zE5"
      }
    },
    {
      "cell_type": "markdown",
      "source": [
        "###1a"
      ],
      "metadata": {
        "id": "DwSAFfc26qh8"
      }
    },
    {
      "cell_type": "code",
      "source": [
        "random.seed(5)\n",
        "random.random()"
      ],
      "metadata": {
        "colab": {
          "base_uri": "https://localhost:8080/"
        },
        "id": "TW-4VQ0q5R99",
        "outputId": "b068bdb6-a921-4342-baa5-bb0ff5477212"
      },
      "execution_count": null,
      "outputs": [
        {
          "output_type": "execute_result",
          "data": {
            "text/plain": [
              "0.6229016948897019"
            ]
          },
          "metadata": {},
          "execution_count": 10
        }
      ]
    },
    {
      "cell_type": "markdown",
      "source": [
        "### 1b"
      ],
      "metadata": {
        "id": "YueNWiaP64ZT"
      }
    },
    {
      "cell_type": "code",
      "source": [
        "\n",
        "def gen_random_list (length):\n",
        "  newlist = []\n",
        "  random.seed()\n",
        "\n",
        "  # append random number to list\n",
        "  for i in range(length):\n",
        "    newlist.append(random.random())\n",
        "\n",
        "  return newlist"
      ],
      "metadata": {
        "id": "7GNkUh-H6n5e"
      },
      "execution_count": null,
      "outputs": []
    },
    {
      "cell_type": "code",
      "source": [
        "print(gen_random_list(5))"
      ],
      "metadata": {
        "colab": {
          "base_uri": "https://localhost:8080/"
        },
        "id": "fko94sZn7uMW",
        "outputId": "a78868d6-4ae2-4a5b-c070-8bb926453b3c"
      },
      "execution_count": null,
      "outputs": [
        {
          "output_type": "stream",
          "name": "stdout",
          "text": [
            "[0.4333179734548668, 0.1672453286412069, 0.9026425530789443, 0.04088278223300934, 0.7562107308464521]\n"
          ]
        }
      ]
    },
    {
      "cell_type": "markdown",
      "source": [
        "# 2: Monte Carlo Simulations\n",
        "\n"
      ],
      "metadata": {
        "id": "f8QBNkPm85YG"
      }
    },
    {
      "cell_type": "markdown",
      "source": [
        "#### Create a 6-sided die, and roll the dice N times"
      ],
      "metadata": {
        "id": "Pdy-LBGs9Hlq"
      }
    },
    {
      "cell_type": "code",
      "source": [
        "# Create a dice\n",
        "\n",
        "def create_dice (N):\n",
        "  return list(range(1,N+1))\n",
        "\n",
        "def roll_dice_X_times (x, some_dice, some_list, arg_num_dies = 1):\n",
        "  for i in range(x):\n",
        "    some_sub_list = []\n",
        "    for i in range(arg_num_dies):\n",
        "      some_sub_list.append(random.choice(some_dice))\n",
        "    some_list.append(sum(some_sub_list))\n",
        "\n",
        "def get_die_roll_freq_dstr (num_sides_dice, num_rolls_dice, num_dies=1):\n",
        "  # create a dice\n",
        "  some_dice = create_dice (num_sides_dice)\n",
        "\n",
        "  # create a place to store die rolls\n",
        "  dice_rolls = []\n",
        "\n",
        "  # roll the dice X times\n",
        "  roll_dice_X_times(num_rolls_dice, some_dice, dice_rolls, num_dies)\n",
        "\n",
        "  # Get frequency of each element and save to a DataFrame\n",
        "  frequency = collections.Counter(dice_rolls)\n",
        "  temp_df = pd.DataFrame.from_dict(collections.Counter(dice_rolls), orient='index')\n",
        "  temp_df.columns = ['frequency']\n",
        "  temp_df = temp_df.reset_index()\n",
        "\n",
        "  # Calculate probability of each item\n",
        "  temp_df['probability'] = temp_df['frequency'] / temp_df['frequency'].sum()\n",
        "\n",
        "  return temp_df"
      ],
      "metadata": {
        "id": "Hyc12OM28fbw"
      },
      "execution_count": null,
      "outputs": []
    },
    {
      "cell_type": "code",
      "source": [
        "%%time\n",
        "\n",
        "# Roll the dice\n",
        "df = get_die_roll_freq_dstr(6,99999,2)\n",
        "\n",
        "# df = df.set_index('index').sort_index()\n",
        "# df.plot.bar('index','probability')"
      ],
      "metadata": {
        "colab": {
          "base_uri": "https://localhost:8080/"
        },
        "id": "MLRrPeS5VMnI",
        "outputId": "2a610e29-0aa3-4594-a0ca-82d18eaf9f24"
      },
      "execution_count": null,
      "outputs": [
        {
          "output_type": "stream",
          "name": "stdout",
          "text": [
            "CPU times: user 248 ms, sys: 617 µs, total: 249 ms\n",
            "Wall time: 253 ms\n"
          ]
        }
      ]
    },
    {
      "cell_type": "code",
      "source": [
        "df.set_index('index').sort_index()"
      ],
      "metadata": {
        "colab": {
          "base_uri": "https://localhost:8080/",
          "height": 266
        },
        "id": "uh6SuMK0g6I7",
        "outputId": "35d8e4b3-810a-41f1-af5f-1dfe6920ce0c"
      },
      "execution_count": null,
      "outputs": [
        {
          "output_type": "execute_result",
          "data": {
            "text/html": [
              "<div>\n",
              "<style scoped>\n",
              "    .dataframe tbody tr th:only-of-type {\n",
              "        vertical-align: middle;\n",
              "    }\n",
              "\n",
              "    .dataframe tbody tr th {\n",
              "        vertical-align: top;\n",
              "    }\n",
              "\n",
              "    .dataframe thead th {\n",
              "        text-align: right;\n",
              "    }\n",
              "</style>\n",
              "<table border=\"1\" class=\"dataframe\">\n",
              "  <thead>\n",
              "    <tr style=\"text-align: right;\">\n",
              "      <th></th>\n",
              "      <th>frequency</th>\n",
              "      <th>probability</th>\n",
              "    </tr>\n",
              "    <tr>\n",
              "      <th>index</th>\n",
              "      <th></th>\n",
              "      <th></th>\n",
              "    </tr>\n",
              "  </thead>\n",
              "  <tbody>\n",
              "    <tr>\n",
              "      <th>1</th>\n",
              "      <td>16</td>\n",
              "      <td>0.16</td>\n",
              "    </tr>\n",
              "    <tr>\n",
              "      <th>2</th>\n",
              "      <td>13</td>\n",
              "      <td>0.13</td>\n",
              "    </tr>\n",
              "    <tr>\n",
              "      <th>3</th>\n",
              "      <td>17</td>\n",
              "      <td>0.17</td>\n",
              "    </tr>\n",
              "    <tr>\n",
              "      <th>4</th>\n",
              "      <td>22</td>\n",
              "      <td>0.22</td>\n",
              "    </tr>\n",
              "    <tr>\n",
              "      <th>5</th>\n",
              "      <td>17</td>\n",
              "      <td>0.17</td>\n",
              "    </tr>\n",
              "    <tr>\n",
              "      <th>6</th>\n",
              "      <td>15</td>\n",
              "      <td>0.15</td>\n",
              "    </tr>\n",
              "  </tbody>\n",
              "</table>\n",
              "</div>"
            ],
            "text/plain": [
              "       frequency  probability\n",
              "index                        \n",
              "1             16         0.16\n",
              "2             13         0.13\n",
              "3             17         0.17\n",
              "4             22         0.22\n",
              "5             17         0.17\n",
              "6             15         0.15"
            ]
          },
          "metadata": {},
          "execution_count": 54
        }
      ]
    },
    {
      "cell_type": "code",
      "source": [
        "# Run a hypothesis test (Chi-square test for independence of categorical variable)\n",
        "# test for a null hypotheses: \"these results belong to a non-uniform distribution\""
      ],
      "metadata": {
        "id": "txWmTHynQCUi"
      },
      "execution_count": null,
      "outputs": []
    },
    {
      "cell_type": "markdown",
      "source": [
        "#### Now that I can \"draw\" the distribution, how can I prove that the bias is not loaded?    \n",
        "   \n",
        "\n",
        "#### Then, how can I create py.dice which is loaded to give more sixes and eights? Say I'm playing an online game of Ludo, what are some different ways to cheat? will my tests detect it?"
      ],
      "metadata": {
        "id": "v6CQl0kYNMs-"
      }
    },
    {
      "cell_type": "code",
      "source": [
        ""
      ],
      "metadata": {
        "id": "e5QzcxgECETZ"
      },
      "execution_count": null,
      "outputs": []
    }
  ]
}